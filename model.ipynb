{
 "cells": [
  {
   "cell_type": "code",
   "execution_count": null,
   "metadata": {},
   "outputs": [],
   "source": [
    "import tensorflow as tf\n",
    "import pandas as pd"
   ]
  },
  {
   "cell_type": "code",
   "execution_count": null,
   "metadata": {},
   "outputs": [],
   "source": [
    "class preprocces_data:\n",
    "    def __init__(self,fihier):\n",
    "        self.data=pd.read_csv(\"\")\n",
    "    def drop_na(self):\n",
    "        if self.data.isna().any():\n",
    "            self.data.dropna()\n",
    "    def normalization(self,x_train,x_test):\n",
    "        from sklearn.preprocessing import StandardScaler\n",
    "        normilzer=StandardScaler()\n",
    "        return normilzer.fit_transform(x_train),normilzer.fit_transform(x_test)\n",
    "    def split_data(n_feautres,self,test_size):\n",
    "        x=tf.constant(self.data.iloc[:n_feautres])\n",
    "        y=tf.constant(self.data.iloc[-1])\n",
    "        xtrain=\n",
    "    \n",
    "        \n",
    "        \n",
    "        \n",
    "\n",
    "        \n",
    "        "
   ]
  },
  {
   "cell_type": "code",
   "execution_count": null,
   "metadata": {},
   "outputs": [],
   "source": []
  },
  {
   "cell_type": "code",
   "execution_count": null,
   "metadata": {},
   "outputs": [],
   "source": []
  },
  {
   "cell_type": "code",
   "execution_count": null,
   "metadata": {},
   "outputs": [],
   "source": []
  },
  {
   "cell_type": "code",
   "execution_count": null,
   "metadata": {},
   "outputs": [],
   "source": []
  },
  {
   "cell_type": "code",
   "execution_count": null,
   "metadata": {},
   "outputs": [],
   "source": []
  }
 ],
 "metadata": {
  "kernelspec": {
   "display_name": "Python 3",
   "language": "python",
   "name": "python3"
  },
  "language_info": {
   "codemirror_mode": {
    "name": "ipython",
    "version": 3
   },
   "file_extension": ".py",
   "mimetype": "text/x-python",
   "name": "python",
   "nbconvert_exporter": "python",
   "pygments_lexer": "ipython3",
   "version": "3.12.9"
  }
 },
 "nbformat": 4,
 "nbformat_minor": 2
}
